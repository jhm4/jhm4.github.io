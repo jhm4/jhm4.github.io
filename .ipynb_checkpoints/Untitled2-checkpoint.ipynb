{
 "cells": [
  {
   "cell_type": "code",
   "execution_count": 2,
   "metadata": {
    "collapsed": false
   },
   "outputs": [
    {
     "data": {
      "text/plain": [
       "<matplotlib.axes._subplots.AxesSubplot at 0x8709f28>"
      ]
     },
     "execution_count": 2,
     "metadata": {},
     "output_type": "execute_result"
    }
   ],
   "source": [
    "from sklearn import datasets\n",
    "import pylab\n",
    "import pandas as pd\n",
    "import numpy as np\n",
    "import IPython\n",
    "import matplotlib.pyplot as plt\n",
    "#iris = datasets.load_iris()\n",
    "#digits = datasets.load_digits()\n",
    "df= pd.read_csv(r\"C:\\Users\\John\\jhm4.github.io\\PFE2.csv\", parse_dates=['Date'], infer_datetime_format=True)\n",
    "\n",
    "#print(df)\n",
    "#print(df.last_valid_index())\n",
    "#print(df.axes)\n",
    "adjPrice = df[' Adj Close']\n",
    "adjPrice.plot()\n",
    "#plot(arange(5))\n",
    "#print(help(datasets.load_iris()))\n",
    "#print(digits.data)"
   ]
  },
  {
   "cell_type": "code",
   "execution_count": null,
   "metadata": {
    "collapsed": true
   },
   "outputs": [],
   "source": []
  }
 ],
 "metadata": {
  "kernelspec": {
   "display_name": "Python 3",
   "language": "python",
   "name": "python3"
  },
  "language_info": {
   "codemirror_mode": {
    "name": "ipython",
    "version": 3
   },
   "file_extension": ".py",
   "mimetype": "text/x-python",
   "name": "python",
   "nbconvert_exporter": "python",
   "pygments_lexer": "ipython3",
   "version": "3.4.4"
  }
 },
 "nbformat": 4,
 "nbformat_minor": 0
}
